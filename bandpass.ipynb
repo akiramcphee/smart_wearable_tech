{
 "cells": [
  {
   "cell_type": "code",
   "execution_count": null,
   "metadata": {},
   "outputs": [],
   "source": [
    "from scipy.signal import filtfilt\n",
    "from scipy import stats\n",
    "import pandas as pd \n",
    "import numpy as np \n",
    "import matplotlib.pyplot as plt \n",
    "from matplotlib import rcParams\n",
    "import scipy\n",
    "import seaborn as sns\n",
    "\n",
    "# will not work until you pip3 install import-ipynb and pip3 install nbformat\n",
    "import import_ipynb\n",
    "from format_csv import csv_format\n",
    "\n",
    "# Set up plot specifications\n",
    "sns.set(style='ticks')\n",
    "sns.axes_style('white')\n",
    "sns.set_context(\"paper\", font_scale=1.25, rc={\"lines.linewidth\": 2})\n",
    "plt.rcParams['figure.figsize'] = [10, 5]\n",
    "plt.rcParams.update({'font.size': 12})\n"
   ]
  },
  {
   "cell_type": "code",
   "execution_count": null,
   "metadata": {},
   "outputs": [],
   "source": [
    "# Choose which CSV file to graph\n",
    "lab_num = 1\n",
    "scope_num = 5\n",
    "sensor_ch = 2\n",
    "filename = csv_format(lab_num, scope_num, sensor_ch) # Format CSV to prepare for plotting\n",
    "\n",
    "df = pd.read_csv(filename)\n",
    "sensor_data = df[['Sensor']]\n",
    "sensor_data = np.array(sensor_data)\n",
    "time = np.array(df['Time'])\n",
    "\n",
    "# Plot the original signal\n",
    "plt.plot(time, sensor_data, color = '#3C71FF')\n",
    "plt.xlabel('Time (s)')\n",
    "plt.ylabel('Volts (V)')\n",
    "plt.title('Unfiltered signal')\n",
    "plt.show()"
   ]
  },
  {
   "cell_type": "code",
   "execution_count": null,
   "metadata": {},
   "outputs": [],
   "source": [
    "\n",
    "# Function to apply the bandpass filter\n",
    "def band_pass_filter(signal):\n",
    "\n",
    "    # Sampling Rate of data\n",
    "    fs = len(signal) / 5\n",
    "\n",
    "    # Range for filter\n",
    "    lowcut = 0.01 # Tends to control how 'flat' the ends are\n",
    "    highcut = 5 # Tends to control how much the graph resembles the original graph (higher = closer to original)\n",
    "\n",
    "    nyq = 0.5*fs\n",
    "    low = lowcut/nyq\n",
    "    high = highcut/nyq\n",
    "\n",
    "    order=2\n",
    "\n",
    "    b,a = scipy.signal.butter(order,[low,high], 'bandpass', analog=False)\n",
    "    y = scipy.signal.filtfilt(b,a,signal,axis=0)\n",
    "\n",
    "    return y"
   ]
  },
  {
   "cell_type": "code",
   "execution_count": null,
   "metadata": {},
   "outputs": [],
   "source": [
    "\n",
    "fig,axs = plt.subplots(2,1)\n",
    "\n",
    "# Plotting the original signal\n",
    "plt.sca(axs[0])\n",
    "plt.plot(time, sensor_data, color='#07DCCB', LineWidth=2, label=\"Unfiltered Signal\")\n",
    "plt.title(f'Unfiltered Signal for {filename}')\n",
    "plt.xlabel('Time (s)')\n",
    "plt.ylabel('Volts (V)')\n",
    "plt.legend()\n",
    "\n",
    "# Plotting the filtered signal\n",
    "plt.sca(axs[1])\n",
    "filtered_signal = band_pass_filter(sensor_data)\n",
    "plt.plot(time, filtered_signal, color='#000000', LineWidth=2, label=\"Filtered Signal\")\n",
    "plt.title(f'Bandpass Filtered Signal for {filename}')\n",
    "plt.xlabel('Time (s)')\n",
    "plt.ylabel('Volts (V)')\n",
    "plt.legend()\n",
    "\n",
    "plt.tight_layout()\n",
    "\n",
    "# save raw scope as png in data/Plots/Lab_<lab_num>/Spectrograms\n",
    "image_path = f'data/Plots/Lab_{lab_num}/Bandpass_filtered_plots/scope_{scope_num}.png'\n",
    "plt.savefig(image_path, dpi=300, bbox_inches='tight', transparent=False)"
   ]
  },
  {
   "cell_type": "code",
   "execution_count": null,
   "metadata": {
    "tags": []
   },
   "outputs": [],
   "source": [
    "# Save Bandpass Filtered data as a new CSV\n",
    "t=time.tolist()\n",
    "f =filtered_signal.tolist()\n",
    "f=sum(f,[])\n",
    "df = pd.DataFrame(list(zip(*[t,f])))\n",
    "df.columns=['Time', 'Sensor']\n",
    "df.to_csv(f'data/Lab_{lab_num}/Filtered/scope_{scope_num}.csv', index=False)\n",
    "\n"
   ]
  }
 ],
 "metadata": {
  "interpreter": {
   "hash": "31f2aee4e71d21fbe5cf8b01ff0e069b9275f58929596ceb00d14d90e3e16cd6"
  },
  "kernelspec": {
   "display_name": "Python 3.8.5 64-bit",
   "name": "python3"
  },
  "language_info": {
   "codemirror_mode": {
    "name": "ipython",
    "version": 3
   },
   "file_extension": ".py",
   "mimetype": "text/x-python",
   "name": "python",
   "nbconvert_exporter": "python",
   "pygments_lexer": "ipython3",
   "version": "3.8.5"
  },
  "metadata": {
   "interpreter": {
    "hash": "aee8b7b246df8f9039afb4144a1f6fd8d2ca17a180786b69acc140d282b71a49"
   }
  },
  "orig_nbformat": 2
 },
 "nbformat": 4,
 "nbformat_minor": 2
}