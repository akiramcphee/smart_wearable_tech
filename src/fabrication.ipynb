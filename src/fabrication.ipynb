{
 "cells": [
  {
   "cell_type": "markdown",
   "source": [
    "# Data Fabrication\n",
    "\n",
    "- This notebook goes through the process of fabricating data whilst collecting actual data from labs is not an optiom\n",
    "\n",
    "## Test Database \n",
    "\n",
    "- Instead of trying to mimic what we might acquire from labs, we can simply create a database of fabricated data which can help us test and verify our model\n",
    "    - After all, we are trying to get our model to assign an input to one of our outputs- it doesn't matter if this output is the word 'alpha' or just some gibberish, we are more interested in the fact that it can idenitfy the input belonging to the output \n",
    "\n",
    "### Proposal from Software meeting 25/07 \n",
    "\n",
    "1. Using the data collected from the lab with the most samples (using old convention Lab_2), pick 26 scopes to use as our 'parents' to fabricate data from. A few more may be included for 'non words' (breath,swallow, cough etc)\n",
    "\n",
    "2. Then, make up to 5000 variations on each parent (to mimic variability in collected data)\n",
    "    - This variation can be made through mathematical manipulation of data (shift, stretch, split, remove etc)\n",
    "    \n",
    "\n",
    "3. Create a model which can learn from this and assign an input to one of these outputs"
   ],
   "metadata": {}
  },
  {
   "cell_type": "code",
   "execution_count": 19,
   "source": [
    "import pandas as pd \n",
    "import numpy as np \n",
    "import matplotlib.pyplot as plt\n",
    "from matplotlib import rcParams\n",
    "import seaborn as sns \n",
    "import random\n",
    "\n",
    "# will not work until you pip3 install import-ipynb and pip3 install nbformat\\n\",\n",
    "import import_ipynb\n",
    "from format_csv import csv_format\n",
    "# Set up plot specifications\n",
    "sns.set(style='ticks')\n",
    "sns.axes_style('white')\n",
    "sns.set_context('paper')\n",
    "plt.rcParams['figure.figsize'] = [10, 5]\n",
    "plt.rcParams.update({'font.size': 12})\n",
    "rcParams['font.family'] = 'Avenir'\n"
   ],
   "outputs": [],
   "metadata": {}
  },
  {
   "cell_type": "code",
   "execution_count": 166,
   "source": [
    "\n",
    "\n",
    "\n",
    "\n",
    "filename = '../fabricated_data/scope_0.csv'\n",
    "df = pd.read_csv(filename)\n",
    "\n",
    "\n",
    "#fig,axs = plt.subplots(2,1)\n",
    "\n",
    "\n",
    "\n",
    "# Plot original function for comparison\n",
    "\n",
    "plt.plot(df['Time'], df['Sensor'])\n",
    "\n",
    "# Decide how many times the data is going to be manipulated, random for greater variability\n",
    "loop = random.randint(6,9)\n",
    "i =0\n",
    "while i < loop:\n",
    "    # Decides which method of manipulation is going to be applied\n",
    "    fabrication_type = random.randint(2, 3)\n",
    "\n",
    "    # Mirror the data (Although probsably not useful)\n",
    "    if fabrication_type == 1:\n",
    "        df[\"Sensor\"] = df[\"Sensor\"].values[::-1]\n",
    "\n",
    "\n",
    "    # Scale up by a random percentage \n",
    "    elif fabrication_type == 2:\n",
    "        j=0\n",
    "        while j < len(df[\"Sensor\"]):\n",
    "            # Scale factor is not same each time\n",
    "            scale_factor = random.randint(7,14)/10\n",
    "            # Determines the spacing between elements to get scaled\n",
    "            scale_element = random.randint(4,20)\n",
    "            if j % scale_element == 0:\n",
    "                df[\"Sensor\"][j] *= (scale_factor)\n",
    "            j+=1\n",
    "\n",
    "\n",
    "    # Shift by random amount\n",
    "    elif fabrication_type == 3:\n",
    "        # Scale factor is not same each time\n",
    "        shift_factor_x = random.randint(-50,50)/100\n",
    "        shift_factor_y = random.randint(-5,10)/5000\n",
    "        \n",
    "        df[\"Time\"] += (shift_factor_x)\n",
    "        df[\"Sensor\"] += (shift_factor_y)\n",
    "\n",
    "        \n",
    "    i +=1 \n",
    "\n",
    "plt.plot(df['Time'], df['Sensor'])\n"
   ],
   "outputs": [
    {
     "output_type": "execute_result",
     "data": {
      "text/plain": [
       "[<matplotlib.lines.Line2D at 0x7f88ea6cc2b0>]"
      ]
     },
     "metadata": {},
     "execution_count": 166
    },
    {
     "output_type": "display_data",
     "data": {
      "text/plain": [
       "<Figure size 720x360 with 1 Axes>"
      ],
      "image/png": "[encoded data removed]"
     },
     "metadata": {}
    }
   ],
   "metadata": {}
  }
 ],
 "metadata": {
  "orig_nbformat": 4,
  "language_info": {
   "name": "python",
   "version": "3.9.1",
   "mimetype": "text/x-python",
   "codemirror_mode": {
    "name": "ipython",
    "version": 3
   },
   "pygments_lexer": "ipython3",
   "nbconvert_exporter": "python",
   "file_extension": ".py"
  },
  "kernelspec": {
   "name": "python3",
   "display_name": "Python 3.9.1 64-bit"
  },
  "interpreter": {
   "hash": "aee8b7b246df8f9039afb4144a1f6fd8d2ca17a180786b69acc140d282b71a49"
  }
 },
 "nbformat": 4,
 "nbformat_minor": 2
}