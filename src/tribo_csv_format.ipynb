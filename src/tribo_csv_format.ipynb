{
 "cells": [
  {
   "cell_type": "code",
   "execution_count": 40,
   "metadata": {},
   "outputs": [],
   "source": [
    "\n",
    "import pandas as pd\n",
    "import os\n",
    "\n",
    "filename = \"Music Vocal Dominant - 08\"\n",
    "\n",
    "df = pd.read_csv(f'../triboelectric/{filename}.csv')\n",
    "\n",
    "cols = list(df.columns)\n",
    "for header in cols:\n",
    "    if 'Channel 2 (V)' in header:\n",
    "        df = df.drop(\"Channel 2 (V)\", axis=1)\n",
    "\n",
    "df['Time'] = abs(df['Time'])\n",
    "save_path = f'../triboelectric/{filename}.csv'\n",
    "df.to_csv(save_path, index=False)\n"
   ]
  }
 ],
 "metadata": {
  "interpreter": {
   "hash": "aee8b7b246df8f9039afb4144a1f6fd8d2ca17a180786b69acc140d282b71a49"
  },
  "kernelspec": {
   "display_name": "Python 3.9.1 64-bit",
   "name": "python3"
  },
  "language_info": {
   "codemirror_mode": {
    "name": "ipython",
    "version": 3
   },
   "file_extension": ".py",
   "mimetype": "text/x-python",
   "name": "python",
   "nbconvert_exporter": "python",
   "pygments_lexer": "ipython3",
   "version": "3.9.1"
  },
  "orig_nbformat": 4
 },
 "nbformat": 4,
 "nbformat_minor": 2
}
