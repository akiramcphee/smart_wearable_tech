{
 "metadata": {
  "language_info": {
   "codemirror_mode": {
    "name": "ipython",
    "version": 3
   },
   "file_extension": ".py",
   "mimetype": "text/x-python",
   "name": "python",
   "nbconvert_exporter": "python",
   "pygments_lexer": "ipython3",
   "version": "3.9.1"
  },
  "orig_nbformat": 2,
  "kernelspec": {
   "name": "python391jvsc74a57bd0aee8b7b246df8f9039afb4144a1f6fd8d2ca17a180786b69acc140d282b71a49",
   "display_name": "Python 3.9.1 64-bit"
  },
  "metadata": {
   "interpreter": {
    "hash": "aee8b7b246df8f9039afb4144a1f6fd8d2ca17a180786b69acc140d282b71a49"
   }
  }
 },
 "nbformat": 4,
 "nbformat_minor": 2,
 "cells": [
  {
   "cell_type": "code",
   "execution_count": null,
   "metadata": {},
   "outputs": [],
   "source": [
    "import numpy as np\n",
    "import matplotlib.pyplot as plt\n",
    "\n",
    "plt.rcParams['figure.figsize'] = [16, 12]\n",
    "plt.rcParams.update({'font.size': 18})\n",
    "\n",
    "# Create a simple signal with two frequencies\n",
    "dt = 0.001\n",
    "t = np.arange(0, 1, dt)\n",
    "f = np.sin(2*np.pi*50*t) + np.sin(2*np.pi*120*t)  # Sum of two frequencies\n",
    "f_clean = f\n",
    "f = f+2.5*np.random.randn(len(t))  # Add some random noise\n",
    "\n",
    "plt.plot(t, f, color='c', LineWidth=1.5, label=\"Noisy\")\n",
    "plt.plot(t, f_clean, color='k', LineWidth=2, label=\"Clean\")\n",
    "plt.xlim(t[0], t[-1])\n",
    "plt.legend()\n",
    "plt.show()"
   ]
  },
  {
   "cell_type": "code",
   "execution_count": null,
   "metadata": {},
   "outputs": [],
   "source": [
    "## Compute the Fast Fourier Transform (FFT)\n",
    "\n",
    "n = len(t)                     \n",
    "fhat = np.fft.fft(f,n)       \n",
    "PSD = fhat * np.conj(fhat)/n \n",
    "freq = (1/(dt*n)) * np.arange(n)\n",
    "L = np.arange(1,np.floor(n/2),dtype='int')\n",
    "\n",
    "fig,axs = plt.subplots(2,1)\n",
    "\n",
    "plt.sca(axs[0])\n",
    "plt.plot(t, f, color='c', LineWidth=1.5, label=\"Noisy\")\n",
    "plt.plot(t, f_clean, color='k', LineWidth=2, label=\"Clean\")\n",
    "plt.xlim(t[0], t[-1])\n",
    "plt.legend()\n",
    "\n",
    "plt.sca(axs[1])\n",
    "plt.plot(freq[L], PSD[L], color='c', LineWidth=2, label=\"Noisy\")\n",
    "plt.xlim(freq[L[0]], freq[L[-1]])\n",
    "plt.xlabel(\"Frequency (Hz)\")\n",
    "plt.legend()\n",
    "\n",
    "plt.show()\n"
   ]
  },
  {
   "cell_type": "code",
   "execution_count": null,
   "metadata": {},
   "outputs": [],
   "source": [
    "indices = PSD > 100\n",
    "PSDclean = PSD * indices\n",
    "fhat = indices * fhat\n",
    "ffilt = np.fft.ifft(fhat)"
   ]
  },
  {
   "cell_type": "code",
   "execution_count": null,
   "metadata": {},
   "outputs": [],
   "source": [
    "fig,axs = plt.subplots(3,1)\n",
    "\n",
    "plt.sca(axs[0])\n",
    "plt.plot(t, f, color='c', LineWidth=1.5, label=\"Noisy\")\n",
    "plt.plot(t, f_clean, color='k', LineWidth=2, label=\"Clean\")\n",
    "plt.xlim(t[0], t[-1])\n",
    "plt.legend()\n",
    "\n",
    "plt.sca(axs[1])\n",
    "plt.plot(t, ffilt, color='k', LineWidth=2, label=\"Filtered\")\n",
    "plt.xlim(t[0], t[-1])\n",
    "plt.legend()\n",
    "\n",
    "plt.sca(axs[2])\n",
    "plt.plot(freq[L], PSD[L], color='c', LineWidth=2, label=\"Noisy\")\n",
    "plt.plot(freq[L], PSDclean[L], color='k', LineWidth=1.5, label=\"Filtered\")\n",
    "plt.xlim(freq[L[0]], freq[L[-1]])\n",
    "plt.legend()\n",
    "\n",
    "plt.show"
   ]
  },
  {
   "cell_type": "code",
   "execution_count": null,
   "metadata": {},
   "outputs": [],
   "source": []
  }
 ]
}