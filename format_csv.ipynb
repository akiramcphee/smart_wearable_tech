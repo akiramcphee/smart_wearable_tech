{
 "metadata": {
  "language_info": {
   "codemirror_mode": {
    "name": "ipython",
    "version": 3
   },
   "file_extension": ".py",
   "mimetype": "text/x-python",
   "name": "python",
   "nbconvert_exporter": "python",
   "pygments_lexer": "ipython3",
   "version": "3.9.1"
  },
  "orig_nbformat": 2,
  "kernelspec": {
   "name": "python391jvsc74a57bd0aee8b7b246df8f9039afb4144a1f6fd8d2ca17a180786b69acc140d282b71a49",
   "display_name": "Python 3.9.1 64-bit"
  },
  "metadata": {
   "interpreter": {
    "hash": "aee8b7b246df8f9039afb4144a1f6fd8d2ca17a180786b69acc140d282b71a49"
   }
  }
 },
 "nbformat": 4,
 "nbformat_minor": 2,
 "cells": [
  {
   "cell_type": "code",
   "execution_count": 127,
   "metadata": {},
   "outputs": [],
   "source": [
    "\n",
    "import pandas as pd\n",
    "\n",
    "def csv_format(filename: str):\n",
    "    f=pd.read_csv(filename)\n",
    "    f = f.rename(columns=({'x-axis':'x_axis'})) \n",
    "    f = f.rename(columns=({'2': 'channel_2'}))\n",
    "    f = f.drop([0], axis=0)\n",
    "    \n",
    "    i = 1\n",
    "    while f[\"channel_2\"][i] !=  f[\"channel_2\"][i]:\n",
    "        f = f.drop([i], axis=0) \n",
    "        i+=1\n",
    "\n",
    "    keep_col = ['x_axis', 'channel_2']\n",
    "    new_f = f[keep_col]\n",
    "\n",
    "    # Overwriting existing csv file with formatted csv\n",
    "    new_f.to_csv(filename, index=False)\n",
    "\n",
    "\n",
    "    pass\n"
   ]
  },
  {
   "cell_type": "code",
   "execution_count": 128,
   "metadata": {},
   "outputs": [],
   "source": [
    "filename = 'data/Lab_1/scope_7.csv'\n",
    "csv_format(filename)"
   ]
  },
  {
   "cell_type": "code",
   "execution_count": null,
   "metadata": {},
   "outputs": [],
   "source": []
  }
 ]
}