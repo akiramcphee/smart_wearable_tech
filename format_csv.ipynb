{
 "metadata": {
  "language_info": {
   "codemirror_mode": {
    "name": "ipython",
    "version": 3
   },
   "file_extension": ".py",
   "mimetype": "text/x-python",
   "name": "python",
   "nbconvert_exporter": "python",
   "pygments_lexer": "ipython3",
   "version": "3.9.1"
  },
  "orig_nbformat": 2,
  "kernelspec": {
   "name": "python391jvsc74a57bd0aee8b7b246df8f9039afb4144a1f6fd8d2ca17a180786b69acc140d282b71a49",
   "display_name": "Python 3.9.1 64-bit"
  },
  "metadata": {
   "interpreter": {
    "hash": "aee8b7b246df8f9039afb4144a1f6fd8d2ca17a180786b69acc140d282b71a49"
   }
  }
 },
 "nbformat": 4,
 "nbformat_minor": 2,
 "cells": [
  {
   "cell_type": "code",
   "execution_count": 7,
   "metadata": {},
   "outputs": [],
   "source": [
    "\n",
    "# import csv\n",
    "import csv\n",
    "  \n",
    "# open input CSV file as source\n",
    "# open output CSV file as result\n",
    "\n",
    "def csv_format(filename: str):\n",
    "    with open(filename, \"r\") as source:\n",
    "        reader = csv.reader(source)\n",
    "        \n",
    "        with open(filename, \"w\") as result:\n",
    "            writer = csv.writer(result)\n",
    "            for r in reader:\n",
    "                # Use CSV Index to remove a column from CSV\n",
    "                #r[3] = r['year']\n",
    "                writer.writerow((r[0], r[1]))\n",
    "    pass\n"
   ]
  },
  {
   "cell_type": "code",
   "execution_count": 8,
   "metadata": {},
   "outputs": [],
   "source": [
    "filename = 'data/Lab_2/scope_0.csv'\n",
    "csv_format(filename)"
   ]
  },
  {
   "cell_type": "code",
   "execution_count": null,
   "metadata": {},
   "outputs": [],
   "source": []
  }
 ]
}